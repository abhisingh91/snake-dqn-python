{
 "cells": [
  {
   "cell_type": "code",
   "execution_count": null,
   "metadata": {},
   "outputs": [],
   "source": [
    "from keras import utils\n",
    "from time import time\n",
    "from dqn_model import DQNAgent\n",
    "from game_env import SnakeGameEnv\n",
    "from model_eval import ModelEval\n",
    "\n",
    "utils.disable_interactive_logging()"
   ]
  },
  {
   "cell_type": "code",
   "execution_count": null,
   "metadata": {},
   "outputs": [],
   "source": [
    "env = SnakeGameEnv(grid_size=10)\n",
    "agent = DQNAgent(state_size=(21,), action_size=3)\n",
    "model_evaluator = ModelEval(env, agent)"
   ]
  },
  {
   "cell_type": "code",
   "execution_count": null,
   "metadata": {},
   "outputs": [],
   "source": [
    "train_new_model = False\n",
    "\n",
    "if train_new_model:\n",
    "    # Train the model\n",
    "    model_evaluator.train_model(num_episodes=1500)\n",
    "    agent.model.save(f\"models/snake_model_final-{int(time())}.h5\")\n",
    "\n",
    "else:\n",
    "    # load pretrained model\n",
    "    from keras.models import load_model\n",
    "\n",
    "    agent.model = load_model(\"trained_models/snake_model_final-1701052070.h5\")"
   ]
  },
  {
   "cell_type": "code",
   "execution_count": null,
   "metadata": {},
   "outputs": [],
   "source": [
    "# Test the model\n",
    "model_evaluator.test_model(num_episodes=50)"
   ]
  }
 ],
 "metadata": {
  "kernelspec": {
   "display_name": "Python 3.10.6 ('venv': venv)",
   "language": "python",
   "name": "python3"
  },
  "language_info": {
   "codemirror_mode": {
    "name": "ipython",
    "version": 3
   },
   "file_extension": ".py",
   "mimetype": "text/x-python",
   "name": "python",
   "nbconvert_exporter": "python",
   "pygments_lexer": "ipython3",
   "version": "3.10.6"
  },
  "orig_nbformat": 4,
  "vscode": {
   "interpreter": {
    "hash": "ec0e890b954293f34d16d4c104a129e3912c28c5e75cee8491611edc427a31d8"
   }
  }
 },
 "nbformat": 4,
 "nbformat_minor": 2
}
